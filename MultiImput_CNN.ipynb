{
  "nbformat": 4,
  "nbformat_minor": 0,
  "metadata": {
    "colab": {
      "provenance": [],
      "machine_shape": "hm"
    },
    "kernelspec": {
      "name": "python3",
      "display_name": "Python 3"
    },
    "language_info": {
      "name": "python"
    },
    "accelerator": "GPU",
    "gpuClass": "premium"
  },
  "cells": [
    {
      "cell_type": "code",
      "source": [
        "from google.colab import drive\n",
        "drive.mount('/content/drive')"
      ],
      "metadata": {
        "colab": {
          "base_uri": "https://localhost:8080/"
        },
        "id": "bKarsHBe6lH6",
        "outputId": "af80fa13-79bf-4e6e-a00a-5c865cdc332c"
      },
      "execution_count": 3,
      "outputs": [
        {
          "output_type": "stream",
          "name": "stdout",
          "text": [
            "Mounted at /content/drive\n"
          ]
        }
      ]
    },
    {
      "cell_type": "code",
      "execution_count": 2,
      "metadata": {
        "id": "htNnqRxPz4Jh"
      },
      "outputs": [],
      "source": [
        "import tensorflow as tf\n",
        "import pandas as pd\n",
        "from math import sqrt\n",
        "from numpy import split\n",
        "from numpy import array\n",
        "from pandas import read_csv\n",
        "from sklearn.metrics import mean_squared_error\n",
        "from matplotlib import pyplot\n",
        "from keras.models import Sequential\n",
        "from keras.layers import Dense\n",
        "from keras.layers import Flatten\n",
        "from keras.layers import LSTM\n",
        "from numpy import hstack\n",
        "import seaborn as sns\n",
        "import numpy as np\n",
        "from sklearn.model_selection import train_test_split \n",
        "from sklearn.metrics import confusion_matrix \n",
        "from sklearn import metrics\n",
        "import itertools\n",
        "%matplotlib inline\n",
        "\n"
      ]
    },
    {
      "cell_type": "code",
      "source": [
        "Datos3K=read_csv('/content/drive/MyDrive/Colab Notebooks/3Koutfit.csv',delimiter=',', index_col=False)\n",
        "Datos3K = array(Datos3K)\n",
        "\n"
      ],
      "metadata": {
        "id": "JbRaVfcGRWuo"
      },
      "execution_count": 4,
      "outputs": []
    },
    {
      "cell_type": "code",
      "source": [
        "Datos3K.shape"
      ],
      "metadata": {
        "colab": {
          "base_uri": "https://localhost:8080/"
        },
        "id": "KlCLZwhmvSBG",
        "outputId": "2a848730-11c6-44cc-9d03-462bd0388567"
      },
      "execution_count": 5,
      "outputs": [
        {
          "output_type": "execute_result",
          "data": {
            "text/plain": [
              "(150528, 2994)"
            ]
          },
          "metadata": {},
          "execution_count": 5
        }
      ]
    },
    {
      "cell_type": "code",
      "source": [
        "Yvalues = []\n",
        "for j in range(4):\n",
        "  for i in range(2994): \n",
        "    Yvalues.append(i)\n",
        "print(len(Yvalues))\n"
      ],
      "metadata": {
        "colab": {
          "base_uri": "https://localhost:8080/"
        },
        "outputId": "05b28a28-4bff-40b7-95f7-f2f15564e31e",
        "id": "ujDMlz5aRXBy"
      },
      "execution_count": null,
      "outputs": [
        {
          "output_type": "stream",
          "name": "stdout",
          "text": [
            "11976\n"
          ]
        }
      ]
    },
    {
      "cell_type": "code",
      "source": [
        "Yvalues2 = []\n",
        "for i in range(2994): \n",
        "  Yvalues2.append(i)\n",
        "print(len(Yvalues2))"
      ],
      "metadata": {
        "colab": {
          "base_uri": "https://localhost:8080/"
        },
        "id": "onw09jHR-dfX",
        "outputId": "c21def78-c08f-4b8d-a459-3da28fa5ca81"
      },
      "execution_count": 6,
      "outputs": [
        {
          "output_type": "stream",
          "name": "stdout",
          "text": [
            "2994\n"
          ]
        }
      ]
    },
    {
      "cell_type": "code",
      "source": [
        "parte1=(Datos3K[0:50176,:])\n",
        "parte2=(Datos3K[50176:100352,:])\n",
        "parte3=(Datos3K[100352:,:])\n",
        "print(parte1.shape,parte2.shape,parte3.shape)"
      ],
      "metadata": {
        "colab": {
          "base_uri": "https://localhost:8080/"
        },
        "outputId": "29fae2cf-2fea-4808-cc0d-f93f03c5f121",
        "id": "u5mu0n2jRXBz"
      },
      "execution_count": 7,
      "outputs": [
        {
          "output_type": "stream",
          "name": "stdout",
          "text": [
            "(50176, 2994) (50176, 2994) (50176, 2994)\n"
          ]
        }
      ]
    },
    {
      "cell_type": "code",
      "source": [
        "Data1=list()\n",
        "Data1 = np.concatenate([parte1, parte2,parte3])\n",
        "Data2 = np.concatenate([parte1, parte3,parte2])\n",
        "Data3 = np.concatenate([parte3, parte2,parte1])\n",
        "Data4 = np.concatenate([parte2, parte3,parte1])\n",
        "\n",
        "Data1"
      ],
      "metadata": {
        "colab": {
          "base_uri": "https://localhost:8080/"
        },
        "outputId": "75aff776-8593-48f7-fcb9-ec4d8e04c66c",
        "id": "TYRonSScRXBz"
      },
      "execution_count": null,
      "outputs": [
        {
          "output_type": "execute_result",
          "data": {
            "text/plain": [
              "array([[185., 168.,   0., ...,   0.,   0.,   0.],\n",
              "       [181., 164.,   0., ...,   0.,   0.,   0.],\n",
              "       [174., 154.,   0., ...,   0.,   0.,   0.],\n",
              "       ...,\n",
              "       [  0.,   1.,   1., ...,   3.,   1.,   0.],\n",
              "       [  0.,   0.,   1., ...,   7.,   1.,   0.],\n",
              "       [  0.,   1.,   1., ...,  15.,   1.,   0.]])"
            ]
          },
          "metadata": {},
          "execution_count": 8
        }
      ]
    },
    {
      "cell_type": "code",
      "source": [
        "Data1=Data1.transpose()\n",
        "Data2=Data2.transpose()\n",
        "Data3=Data3.transpose()\n",
        "Data4=Data4.transpose()\n",
        "DatosCompletos=np.concatenate([Data1, Data2,Data3,Data4])"
      ],
      "metadata": {
        "id": "21VFqUKaRXBz"
      },
      "execution_count": null,
      "outputs": []
    },
    {
      "cell_type": "code",
      "source": [
        "DatosCompletos=DatosCompletos.transpose()"
      ],
      "metadata": {
        "id": "16NxEvaARXBz"
      },
      "execution_count": null,
      "outputs": []
    },
    {
      "cell_type": "code",
      "source": [
        "print(DatosCompletos.shape)"
      ],
      "metadata": {
        "colab": {
          "base_uri": "https://localhost:8080/"
        },
        "outputId": "ad772978-9803-4288-d736-ae36faa1cda1",
        "id": "6uIqR16HRXBz"
      },
      "execution_count": null,
      "outputs": [
        {
          "output_type": "stream",
          "name": "stdout",
          "text": [
            "(150528, 11976)\n"
          ]
        }
      ]
    },
    {
      "cell_type": "code",
      "source": [
        "DatosCompletos=DatosCompletos.transpose()"
      ],
      "metadata": {
        "id": "PjFligqGcW7H"
      },
      "execution_count": null,
      "outputs": []
    },
    {
      "cell_type": "code",
      "source": [
        "DatosCompletos"
      ],
      "metadata": {
        "colab": {
          "base_uri": "https://localhost:8080/"
        },
        "outputId": "e15f62f6-80d8-419e-94a1-020e8e164505",
        "id": "kGWtgbRhRXB0"
      },
      "execution_count": null,
      "outputs": [
        {
          "output_type": "execute_result",
          "data": {
            "text/plain": [
              "array([[185., 181., 174., ...,   0.,   0.,   0.],\n",
              "       [168., 164., 154., ...,   1.,   0.,   1.],\n",
              "       [  0.,   0.,   0., ...,   1.,   1.,   1.],\n",
              "       ...,\n",
              "       [  0.,   0.,   0., ...,   0.,   0.,   0.],\n",
              "       [ 17.,  54., 105., ...,   0.,   0.,   0.],\n",
              "       [163., 170., 200., ...,   0.,   0.,   0.]])"
            ]
          },
          "metadata": {},
          "execution_count": 13
        }
      ]
    },
    {
      "cell_type": "code",
      "source": [
        "X=DatosCompletos\n",
        "y=array(Yvalues)\n",
        "y=y.reshape(11976,1)\n",
        "print(X.shape,y)"
      ],
      "metadata": {
        "colab": {
          "base_uri": "https://localhost:8080/",
          "height": 226
        },
        "outputId": "73779fc7-6bcb-40ec-999a-4acee51b18a1",
        "id": "9c6aVKLTcNO4"
      },
      "execution_count": null,
      "outputs": [
        {
          "output_type": "error",
          "ename": "NameError",
          "evalue": "ignored",
          "traceback": [
            "\u001b[0;31m---------------------------------------------------------------------------\u001b[0m",
            "\u001b[0;31mNameError\u001b[0m                                 Traceback (most recent call last)",
            "\u001b[0;32m<ipython-input-8-9743e40632a2>\u001b[0m in \u001b[0;36m<module>\u001b[0;34m\u001b[0m\n\u001b[0;32m----> 1\u001b[0;31m \u001b[0mX\u001b[0m\u001b[0;34m=\u001b[0m\u001b[0mDatosCompletos\u001b[0m\u001b[0;34m\u001b[0m\u001b[0;34m\u001b[0m\u001b[0m\n\u001b[0m\u001b[1;32m      2\u001b[0m \u001b[0my\u001b[0m\u001b[0;34m=\u001b[0m\u001b[0marray\u001b[0m\u001b[0;34m(\u001b[0m\u001b[0mYvalues\u001b[0m\u001b[0;34m)\u001b[0m\u001b[0;34m\u001b[0m\u001b[0;34m\u001b[0m\u001b[0m\n\u001b[1;32m      3\u001b[0m \u001b[0my\u001b[0m\u001b[0;34m=\u001b[0m\u001b[0my\u001b[0m\u001b[0;34m.\u001b[0m\u001b[0mreshape\u001b[0m\u001b[0;34m(\u001b[0m\u001b[0;36m11976\u001b[0m\u001b[0;34m,\u001b[0m\u001b[0;36m1\u001b[0m\u001b[0;34m)\u001b[0m\u001b[0;34m\u001b[0m\u001b[0;34m\u001b[0m\u001b[0m\n\u001b[1;32m      4\u001b[0m \u001b[0mprint\u001b[0m\u001b[0;34m(\u001b[0m\u001b[0mX\u001b[0m\u001b[0;34m.\u001b[0m\u001b[0mshape\u001b[0m\u001b[0;34m,\u001b[0m\u001b[0my\u001b[0m\u001b[0;34m)\u001b[0m\u001b[0;34m\u001b[0m\u001b[0;34m\u001b[0m\u001b[0m\n",
            "\u001b[0;31mNameError\u001b[0m: name 'DatosCompletos' is not defined"
          ]
        }
      ]
    },
    {
      "cell_type": "code",
      "source": [
        "parte1= parte1.transpose()\n",
        "parte1 =np.reshape(parte1,(parte1.shape[0],224,224,1))\n",
        "parte2=parte2.transpose()\n",
        "parte2 =np.reshape(parte2,(parte2.shape[0],224,224,1))\n",
        "parte3=parte3.transpose()\n",
        "parte3 =np.reshape(parte3,(parte3.shape[0],224,224,1))\n"
      ],
      "metadata": {
        "id": "Pnvo3okPRNqe"
      },
      "execution_count": 8,
      "outputs": []
    },
    {
      "cell_type": "code",
      "source": [
        "X =np.reshape(X,(X.shape[0],224,672,1))\n",
        "X.shape"
      ],
      "metadata": {
        "colab": {
          "base_uri": "https://localhost:8080/"
        },
        "outputId": "7b812ddf-4961-4e12-d255-24e6390bf79a",
        "id": "lnohdg8vcNO4"
      },
      "execution_count": null,
      "outputs": [
        {
          "output_type": "execute_result",
          "data": {
            "text/plain": [
              "(11976, 224, 672, 1)"
            ]
          },
          "metadata": {},
          "execution_count": 15
        }
      ]
    },
    {
      "cell_type": "code",
      "source": [
        "X_train, X_test, y_train, y_test = train_test_split(X, y, test_size=0.01, random_state=42)"
      ],
      "metadata": {
        "id": "JW77bMBBmhmu"
      },
      "execution_count": null,
      "outputs": []
    },
    {
      "cell_type": "code",
      "source": [
        "from keras.utils import plot_model\n",
        "\n",
        "from keras.models import Model\n",
        "\n",
        "from keras.layers import Input\n",
        "\n",
        "from keras.layers import Dense\n",
        "\n",
        "from keras.layers import Flatten\n",
        "\n",
        "from keras.layers.convolutional import Conv2D\n",
        "\n",
        "from keras.layers.pooling import MaxPooling2D\n",
        "\n",
        "from tensorflow.keras.layers import concatenate\n",
        "\n",
        "\n",
        "\n",
        "# first input model\n",
        "\n",
        "visible1 = Input(shape=(224,224,1))\n",
        "\n",
        "conv11 = Conv2D(32, kernel_size=4, activation='relu')(visible1)\n",
        "\n",
        "pool11 = MaxPooling2D(pool_size=(2, 2))(conv11)\n",
        "\n",
        "conv12 = Conv2D(16, kernel_size=4, activation='relu')(pool11)\n",
        "\n",
        "pool12 = MaxPooling2D(pool_size=(2, 2))(conv12)\n",
        "\n",
        "#flat1 = Flatten()(pool12)\n",
        "\n",
        "# second input model\n",
        "\n",
        "visible2 = Input(shape=(224,224,1))\n",
        "\n",
        "conv21 = Conv2D(32, kernel_size=4, activation='relu')(visible2)\n",
        "\n",
        "pool21 = MaxPooling2D(pool_size=(2, 2))(conv21)\n",
        "\n",
        "conv22 = Conv2D(16, kernel_size=4, activation='relu')(pool21)\n",
        "\n",
        "pool22 = MaxPooling2D(pool_size=(2, 2))(conv22)\n",
        "\n",
        "#flat2 = Flatten()(pool22)\n",
        "\n",
        "\n",
        "# tird input model\n",
        "\n",
        "visible3 = Input(shape=(224,224,1))\n",
        "\n",
        "conv31 = Conv2D(32, kernel_size=4, activation='relu')(visible3)\n",
        "\n",
        "pool31 = MaxPooling2D(pool_size=(2, 2))(conv31)\n",
        "\n",
        "conv32 = Conv2D(16, kernel_size=4, activation='relu')(pool31)\n",
        "\n",
        "pool32 = MaxPooling2D(pool_size=(2, 2))(conv32)\n",
        "\n",
        "#flat3 = Flatten()(pool32)\n",
        "\n",
        "# merge input models\n",
        "\n",
        "merge = concatenate([pool12, pool22,pool32])\n",
        "\n",
        "# interpretation model\n",
        "\n",
        "hidden1 = Dense(10, activation='relu')(merge)\n",
        "\n",
        "hidden2 = Dense(10, activation='relu')(hidden1)\n",
        "\n",
        "output = Dense(1, activation='softmax')(hidden2)\n",
        "\n",
        "model = Model(inputs=[visible1, visible2,visible3], outputs=output)\n",
        "\n",
        "# summarize layers\n",
        "\n",
        "print(model.summary())\n",
        "\n",
        "# plot graph\n",
        "\n",
        "plot_model(model, to_file='multiple_inputs.png')"
      ],
      "metadata": {
        "id": "DoR4aWwNyW3t",
        "colab": {
          "base_uri": "https://localhost:8080/",
          "height": 1000
        },
        "outputId": "a6fdfcc7-f049-448d-84f2-7d71241afc08"
      },
      "execution_count": 9,
      "outputs": [
        {
          "output_type": "stream",
          "name": "stdout",
          "text": [
            "Model: \"model\"\n",
            "__________________________________________________________________________________________________\n",
            " Layer (type)                   Output Shape         Param #     Connected to                     \n",
            "==================================================================================================\n",
            " input_1 (InputLayer)           [(None, 224, 224, 1  0           []                               \n",
            "                                )]                                                                \n",
            "                                                                                                  \n",
            " input_2 (InputLayer)           [(None, 224, 224, 1  0           []                               \n",
            "                                )]                                                                \n",
            "                                                                                                  \n",
            " input_3 (InputLayer)           [(None, 224, 224, 1  0           []                               \n",
            "                                )]                                                                \n",
            "                                                                                                  \n",
            " conv2d (Conv2D)                (None, 221, 221, 32  544         ['input_1[0][0]']                \n",
            "                                )                                                                 \n",
            "                                                                                                  \n",
            " conv2d_2 (Conv2D)              (None, 221, 221, 32  544         ['input_2[0][0]']                \n",
            "                                )                                                                 \n",
            "                                                                                                  \n",
            " conv2d_4 (Conv2D)              (None, 221, 221, 32  544         ['input_3[0][0]']                \n",
            "                                )                                                                 \n",
            "                                                                                                  \n",
            " max_pooling2d (MaxPooling2D)   (None, 110, 110, 32  0           ['conv2d[0][0]']                 \n",
            "                                )                                                                 \n",
            "                                                                                                  \n",
            " max_pooling2d_2 (MaxPooling2D)  (None, 110, 110, 32  0          ['conv2d_2[0][0]']               \n",
            "                                )                                                                 \n",
            "                                                                                                  \n",
            " max_pooling2d_4 (MaxPooling2D)  (None, 110, 110, 32  0          ['conv2d_4[0][0]']               \n",
            "                                )                                                                 \n",
            "                                                                                                  \n",
            " conv2d_1 (Conv2D)              (None, 107, 107, 16  8208        ['max_pooling2d[0][0]']          \n",
            "                                )                                                                 \n",
            "                                                                                                  \n",
            " conv2d_3 (Conv2D)              (None, 107, 107, 16  8208        ['max_pooling2d_2[0][0]']        \n",
            "                                )                                                                 \n",
            "                                                                                                  \n",
            " conv2d_5 (Conv2D)              (None, 107, 107, 16  8208        ['max_pooling2d_4[0][0]']        \n",
            "                                )                                                                 \n",
            "                                                                                                  \n",
            " max_pooling2d_1 (MaxPooling2D)  (None, 53, 53, 16)  0           ['conv2d_1[0][0]']               \n",
            "                                                                                                  \n",
            " max_pooling2d_3 (MaxPooling2D)  (None, 53, 53, 16)  0           ['conv2d_3[0][0]']               \n",
            "                                                                                                  \n",
            " max_pooling2d_5 (MaxPooling2D)  (None, 53, 53, 16)  0           ['conv2d_5[0][0]']               \n",
            "                                                                                                  \n",
            " concatenate (Concatenate)      (None, 53, 53, 48)   0           ['max_pooling2d_1[0][0]',        \n",
            "                                                                  'max_pooling2d_3[0][0]',        \n",
            "                                                                  'max_pooling2d_5[0][0]']        \n",
            "                                                                                                  \n",
            " dense (Dense)                  (None, 53, 53, 10)   490         ['concatenate[0][0]']            \n",
            "                                                                                                  \n",
            " dense_1 (Dense)                (None, 53, 53, 10)   110         ['dense[0][0]']                  \n",
            "                                                                                                  \n",
            " dense_2 (Dense)                (None, 53, 53, 1)    11          ['dense_1[0][0]']                \n",
            "                                                                                                  \n",
            "==================================================================================================\n",
            "Total params: 26,867\n",
            "Trainable params: 26,867\n",
            "Non-trainable params: 0\n",
            "__________________________________________________________________________________________________\n",
            "None\n"
          ]
        },
        {
          "output_type": "execute_result",
          "data": {
            "image/png": "[encoded data removed]",
            "text/plain": [
              "<IPython.core.display.Image object>"
            ]
          },
          "metadata": {},
          "execution_count": 9
        }
      ]
    },
    {
      "cell_type": "code",
      "source": [
        "model.compile(optimizer='adam',loss='mse',metrics=['accuracy'])"
      ],
      "metadata": {
        "id": "xfHoJILU2BhQ"
      },
      "execution_count": 10,
      "outputs": []
    },
    {
      "cell_type": "code",
      "source": [
        "model.fit([parte1,parte2,parte3],np.array(Yvalues2),epochs=20, batch_size=320)"
      ],
      "metadata": {
        "colab": {
          "base_uri": "https://localhost:8080/"
        },
        "id": "i6WnemoR7X-n",
        "outputId": "4b664790-65bb-475f-c39d-1be4c272cb9b"
      },
      "execution_count": 11,
      "outputs": [
        {
          "output_type": "stream",
          "name": "stdout",
          "text": [
            "Epoch 1/20\n",
            "10/10 [==============================] - 13s 208ms/step - loss: 2983522.7500 - accuracy: 3.3400e-04\n",
            "Epoch 2/20\n",
            "10/10 [==============================] - 2s 182ms/step - loss: 2983522.7500 - accuracy: 3.3400e-04\n",
            "Epoch 3/20\n",
            "10/10 [==============================] - 2s 183ms/step - loss: 2983523.2500 - accuracy: 3.3400e-04\n",
            "Epoch 4/20\n",
            "10/10 [==============================] - 2s 180ms/step - loss: 2983523.2500 - accuracy: 3.3400e-04\n",
            "Epoch 5/20\n",
            "10/10 [==============================] - 2s 185ms/step - loss: 2983523.2500 - accuracy: 3.3400e-04\n",
            "Epoch 6/20\n",
            "10/10 [==============================] - 2s 184ms/step - loss: 2983523.5000 - accuracy: 3.3400e-04\n",
            "Epoch 7/20\n",
            "10/10 [==============================] - 2s 182ms/step - loss: 2983523.2500 - accuracy: 3.3400e-04\n",
            "Epoch 8/20\n",
            "10/10 [==============================] - 2s 184ms/step - loss: 2983522.7500 - accuracy: 3.3400e-04\n",
            "Epoch 9/20\n",
            "10/10 [==============================] - 2s 182ms/step - loss: 2983522.7500 - accuracy: 3.3400e-04\n",
            "Epoch 10/20\n",
            "10/10 [==============================] - 2s 182ms/step - loss: 2983523.2500 - accuracy: 3.3400e-04\n",
            "Epoch 11/20\n",
            "10/10 [==============================] - 2s 181ms/step - loss: 2983523.2500 - accuracy: 3.3400e-04\n",
            "Epoch 12/20\n",
            "10/10 [==============================] - 2s 181ms/step - loss: 2983523.2500 - accuracy: 3.3400e-04\n",
            "Epoch 13/20\n",
            "10/10 [==============================] - 2s 184ms/step - loss: 2983523.2500 - accuracy: 3.3400e-04\n",
            "Epoch 14/20\n",
            "10/10 [==============================] - 2s 180ms/step - loss: 2983523.2500 - accuracy: 3.3400e-04\n",
            "Epoch 15/20\n",
            "10/10 [==============================] - 2s 181ms/step - loss: 2983522.7500 - accuracy: 3.3400e-04\n",
            "Epoch 16/20\n",
            "10/10 [==============================] - 2s 185ms/step - loss: 2983522.7500 - accuracy: 3.3400e-04\n",
            "Epoch 17/20\n",
            "10/10 [==============================] - 2s 185ms/step - loss: 2983523.2500 - accuracy: 3.3400e-04\n",
            "Epoch 18/20\n",
            "10/10 [==============================] - 2s 181ms/step - loss: 2983523.2500 - accuracy: 3.3400e-04\n",
            "Epoch 19/20\n",
            "10/10 [==============================] - 2s 185ms/step - loss: 2983523.2500 - accuracy: 3.3400e-04\n",
            "Epoch 20/20\n",
            "10/10 [==============================] - 2s 179ms/step - loss: 2983522.7500 - accuracy: 3.3400e-04\n"
          ]
        },
        {
          "output_type": "execute_result",
          "data": {
            "text/plain": [
              "<keras.callbacks.History at 0x7fc0b6df0ca0>"
            ]
          },
          "metadata": {},
          "execution_count": 11
        }
      ]
    }
  ]
}
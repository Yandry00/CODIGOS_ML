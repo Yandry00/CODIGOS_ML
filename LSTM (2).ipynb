{
  "cells": [
    {
      "cell_type": "code",
      "execution_count": null,
      "metadata": {
        "id": "U5nB7Re0U-tj"
      },
      "outputs": [],
      "source": [
        "import tensorflow as tf\n",
        "import pandas as pd\n",
        "\n",
        "# univariate multi-step lstm\n",
        "from math import sqrt\n",
        "from numpy import split\n",
        "from numpy import array\n",
        "from pandas import read_csv\n",
        "from sklearn.metrics import mean_squared_error\n",
        "from matplotlib import pyplot\n",
        "from keras.models import Sequential\n",
        "from keras.layers import Dense\n",
        "from keras.layers import Flatten\n",
        "from keras.layers import LSTM\n",
        "from numpy import hstack\n",
        "import numpy as np"
      ]
    },
    {
      "cell_type": "markdown",
      "metadata": {
        "id": "NDRSIXtE7Zxx"
      },
      "source": [
        "#Multivariente 3K Datos"
      ]
    },
    {
      "cell_type": "code",
      "execution_count": null,
      "metadata": {
        "id": "JbRaVfcGRWuo"
      },
      "outputs": [],
      "source": [
        "Datos3K=read_csv('/content/drive/MyDrive/Colab Notebooks/3KoutfitNuevaForma80X80.csv',delimiter=',', index_col=False)\n",
        "Datos3K = array(Datos3K)\n",
        "\n"
      ]
    },
    {
      "cell_type": "code",
      "execution_count": null,
      "metadata": {
        "colab": {
          "base_uri": "https://localhost:8080/"
        },
        "id": "KlCLZwhmvSBG",
        "outputId": "2ba21224-5340-4f17-8715-b45b05e590a8"
      },
      "outputs": [
        {
          "data": {
            "text/plain": [
              "(19200, 2994)"
            ]
          },
          "execution_count": 3,
          "metadata": {},
          "output_type": "execute_result"
        }
      ],
      "source": [
        "Datos3K.shape"
      ]
    },
    {
      "cell_type": "code",
      "execution_count": null,
      "metadata": {
        "colab": {
          "base_uri": "https://localhost:8080/"
        },
        "id": "ujDMlz5aRXBy",
        "outputId": "a15eb8c6-1878-4142-db04-1e3c2991966e"
      },
      "outputs": [
        {
          "name": "stdout",
          "output_type": "stream",
          "text": [
            "11976\n"
          ]
        }
      ],
      "source": [
        "Yvalues = []\n",
        "for j in range(4):\n",
        "  for i in range(2994): \n",
        "    Yvalues.append(i)\n",
        "print(len(Yvalues))\n"
      ]
    },
    {
      "cell_type": "code",
      "execution_count": null,
      "metadata": {
        "colab": {
          "base_uri": "https://localhost:8080/"
        },
        "id": "u5mu0n2jRXBz",
        "outputId": "514bd521-4c01-4914-c509-38af96cea85f"
      },
      "outputs": [
        {
          "name": "stdout",
          "output_type": "stream",
          "text": [
            "(6400, 2994) (6400, 2994) (6400, 2994)\n"
          ]
        }
      ],
      "source": [
        "parte1=(Datos3K[0:6400,:])\n",
        "parte2=(Datos3K[6400:12800,:])\n",
        "parte3=(Datos3K[12800:,:])\n",
        "print(parte1.shape,parte2.shape,parte3.shape)"
      ]
    },
    {
      "cell_type": "code",
      "execution_count": null,
      "metadata": {
        "colab": {
          "base_uri": "https://localhost:8080/"
        },
        "id": "TYRonSScRXBz",
        "outputId": "f0b5c6e3-c2d2-4576-a068-6c29f62d0638"
      },
      "outputs": [
        {
          "data": {
            "text/plain": [
              "array([[7.00029020e-01, 3.28870588e-03, 0.00000000e+00, ...,\n",
              "        0.00000000e+00, 1.42593804e-01, 6.53861961e-01],\n",
              "       [6.20381961e-01, 1.03142157e-02, 0.00000000e+00, ...,\n",
              "        0.00000000e+00, 6.38556196e-01, 8.74270588e-01],\n",
              "       [6.08190980e-01, 1.21725863e-01, 0.00000000e+00, ...,\n",
              "        3.92156863e-03, 6.86160588e-01, 8.34623529e-01],\n",
              "       ...,\n",
              "       [6.05924706e-01, 7.80549020e-03, 2.19227059e-01, ...,\n",
              "        0.00000000e+00, 0.00000000e+00, 5.65490196e-04],\n",
              "       [5.91617647e-01, 4.19941176e-03, 2.36089804e-01, ...,\n",
              "        0.00000000e+00, 0.00000000e+00, 5.65490196e-04],\n",
              "       [6.01462353e-01, 8.46039216e-04, 2.34874118e-01, ...,\n",
              "        0.00000000e+00, 0.00000000e+00, 5.65490196e-04]])"
            ]
          },
          "execution_count": 8,
          "metadata": {},
          "output_type": "execute_result"
        }
      ],
      "source": [
        "Data1=list()\n",
        "Data1 = np.concatenate([parte1, parte2,parte3])\n",
        "Data2 = np.concatenate([parte1, parte3,parte2])\n",
        "Data3 = np.concatenate([parte3, parte2,parte1])\n",
        "Data4 = np.concatenate([parte2, parte3,parte1])\n",
        "\n",
        "Data1"
      ]
    },
    {
      "cell_type": "code",
      "execution_count": null,
      "metadata": {
        "id": "21VFqUKaRXBz"
      },
      "outputs": [],
      "source": [
        "Data1=Data1.transpose()\n",
        "Data2=Data2.transpose()\n",
        "Data3=Data3.transpose()\n",
        "Data4=Data4.transpose()\n",
        "DatosCompletos=np.concatenate([Data1, Data2,Data3,Data4])"
      ]
    },
    {
      "cell_type": "code",
      "execution_count": null,
      "metadata": {
        "id": "16NxEvaARXBz"
      },
      "outputs": [],
      "source": [
        "DatosCompletos=DatosCompletos.transpose()"
      ]
    },
    {
      "cell_type": "code",
      "execution_count": null,
      "metadata": {
        "colab": {
          "base_uri": "https://localhost:8080/"
        },
        "id": "6uIqR16HRXBz",
        "outputId": "43d16e83-7b75-41df-dc4f-99293245caa2"
      },
      "outputs": [
        {
          "name": "stdout",
          "output_type": "stream",
          "text": [
            "(19200, 11976)\n"
          ]
        }
      ],
      "source": [
        "print(DatosCompletos.shape)"
      ]
    },
    {
      "cell_type": "code",
      "execution_count": null,
      "metadata": {
        "id": "IwNoQPPORXBz"
      },
      "outputs": [],
      "source": [
        "Yvalues= array(Yvalues)\n",
        "Yvalues = Yvalues.reshape(1,11976) \n",
        "DatosCompletos=np.concatenate([DatosCompletos,Yvalues])"
      ]
    },
    {
      "cell_type": "code",
      "execution_count": null,
      "metadata": {
        "colab": {
          "base_uri": "https://localhost:8080/"
        },
        "id": "PjFligqGcW7H",
        "outputId": "aaf9b15b-ced3-4350-8807-d5d1fc161ea5"
      },
      "outputs": [
        {
          "data": {
            "text/plain": [
              "(19201, 11976)"
            ]
          },
          "execution_count": 12,
          "metadata": {},
          "output_type": "execute_result"
        }
      ],
      "source": [
        "DatosCompletos.shape"
      ]
    },
    {
      "cell_type": "code",
      "execution_count": null,
      "metadata": {
        "colab": {
          "base_uri": "https://localhost:8080/"
        },
        "id": "kGWtgbRhRXB0",
        "outputId": "bfc9b052-7503-4338-de4b-43ddc1c3b0a7"
      },
      "outputs": [
        {
          "data": {
            "text/plain": [
              "array([[7.00029020e-01, 3.28870588e-03, 0.00000000e+00, ...,\n",
              "        0.00000000e+00, 0.00000000e+00, 8.33333333e-04],\n",
              "       [6.20381961e-01, 1.03142157e-02, 0.00000000e+00, ...,\n",
              "        0.00000000e+00, 0.00000000e+00, 4.47215686e-03],\n",
              "       [6.08190980e-01, 1.21725863e-01, 0.00000000e+00, ...,\n",
              "        0.00000000e+00, 0.00000000e+00, 8.11098039e-03],\n",
              "       ...,\n",
              "       [5.91617647e-01, 4.19941176e-03, 2.36089804e-01, ...,\n",
              "        2.55806980e-02, 7.41341176e-02, 0.00000000e+00],\n",
              "       [6.01462353e-01, 8.46039216e-04, 2.34874118e-01, ...,\n",
              "        1.69137255e-02, 9.15372549e-03, 0.00000000e+00],\n",
              "       [0.00000000e+00, 1.00000000e+00, 2.00000000e+00, ...,\n",
              "        2.99100000e+03, 2.99200000e+03, 2.99300000e+03]])"
            ]
          },
          "execution_count": 13,
          "metadata": {},
          "output_type": "execute_result"
        }
      ],
      "source": [
        "DatosCompletos"
      ]
    },
    {
      "cell_type": "code",
      "execution_count": null,
      "metadata": {
        "id": "Knhz_EovcNO3"
      },
      "outputs": [],
      "source": [
        "# Se divie los samples igual que en las entradas univariantes, pero las secuencias se arman con otras condiciones\n",
        "def split_sequence(sequences,n_steps):\n",
        "    X,y = list(),list()\n",
        "    #print(len(sequences))\n",
        "    for i in range(11976):\n",
        "\n",
        "        #print(\"i\",i) \n",
        "        # ordenar las partes de entrada y salida del patrón\n",
        "        seq_x,seq_y = sequences[:-1,i],sequences[-1,i]\n",
        "        # Las \"x\" están formadas por los pares de la seq1 y seq2.\n",
        "        X.append(seq_x)\n",
        "        #Las \"y\" son los valores de la columna final (out_seq)\n",
        "        y.append(seq_y)\n",
        "        #print(\"valores de las secuencias\")\n",
        "        #print(\"seq_x\",seq_x)\n",
        "        #print(\"seq_y\",seq_y)\n",
        "\n",
        "    return array(X),array(y)\n",
        "\n",
        "\n",
        "# Número de pasos de tiempo\n",
        "n_steps = 1\n",
        "\n",
        "# convertir a entrada y salida (x e y)\n",
        "X, y = split_sequence(DatosCompletos, n_steps)\n",
        "\n",
        "# el dataset tiene 2 series paralelas y por tanto, se define 2 en los n_features\n",
        "n_features = X.shape[1]\n",
        "\n",
        "#print(\"info de x e y\")\n",
        "#print(X.shape, y.shape)\n",
        "# summarize the data\n",
        "#print(\"datos de x e y en arrays\")\n",
        "#for i in range(len(X)):\n",
        "#\tprint(X[i], y[i])\n",
        " "
      ]
    },
    {
      "cell_type": "code",
      "execution_count": null,
      "metadata": {
        "colab": {
          "base_uri": "https://localhost:8080/"
        },
        "id": "9c6aVKLTcNO4",
        "outputId": "ac520144-9cdd-4386-dad7-2cbe8bf190b0"
      },
      "outputs": [
        {
          "name": "stdout",
          "output_type": "stream",
          "text": [
            "(11976, 19200)\n",
            "(11976,)\n"
          ]
        }
      ],
      "source": [
        "print(X.shape)\n",
        "print(y.shape)"
      ]
    },
    {
      "cell_type": "code",
      "execution_count": null,
      "metadata": {
        "colab": {
          "base_uri": "https://localhost:8080/"
        },
        "id": "lnohdg8vcNO4",
        "outputId": "b0ac8bef-22db-4625-fbe3-8f2a37d8f7ed"
      },
      "outputs": [
        {
          "data": {
            "text/plain": [
              "(11976, 60, 320)"
            ]
          },
          "execution_count": 30,
          "metadata": {},
          "output_type": "execute_result"
        }
      ],
      "source": [
        "X =np.reshape(X,(X.shape[0],60,320))\n",
        "X.shape"
      ]
    },
    {
      "cell_type": "code",
      "execution_count": null,
      "metadata": {
        "colab": {
          "background_save": true,
          "base_uri": "https://localhost:8080/"
        },
        "id": "iSV6KvaZcGZS",
        "outputId": "060471ee-4f0b-4718-fe9e-78e62df9f5c5"
      },
      "outputs": [
        {
          "name": "stdout",
          "output_type": "stream",
          "text": [
            "Epoch 1/200\n",
            "48/48 [==============================] - 107s 2s/step - loss: 1420.2202 - accuracy: 4.1754e-04 - val_loss: 1794.0000 - val_accuracy: 0.0000e+00\n",
            "Epoch 2/200\n",
            "48/48 [==============================] - 91s 2s/step - loss: 1420.2205 - accuracy: 4.1754e-04 - val_loss: 1794.0000 - val_accuracy: 0.0000e+00\n",
            "Epoch 3/200\n",
            "48/48 [==============================] - 93s 2s/step - loss: 1420.2196 - accuracy: 4.1754e-04 - val_loss: 1794.0000 - val_accuracy: 0.0000e+00\n",
            "Epoch 4/200\n",
            "48/48 [==============================] - 87s 2s/step - loss: 1420.2200 - accuracy: 4.1754e-04 - val_loss: 1794.0000 - val_accuracy: 0.0000e+00\n",
            "Epoch 5/200\n",
            "48/48 [==============================] - 101s 2s/step - loss: 1420.2202 - accuracy: 4.1754e-04 - val_loss: 1794.0000 - val_accuracy: 0.0000e+00\n",
            "Epoch 6/200\n",
            "48/48 [==============================] - 105s 2s/step - loss: 1420.2194 - accuracy: 4.1754e-04 - val_loss: 1794.0000 - val_accuracy: 0.0000e+00\n",
            "Epoch 7/200\n",
            "48/48 [==============================] - 91s 2s/step - loss: 1420.2197 - accuracy: 4.1754e-04 - val_loss: 1794.0000 - val_accuracy: 0.0000e+00\n",
            "Epoch 8/200\n",
            "48/48 [==============================] - 85s 2s/step - loss: 1420.2200 - accuracy: 4.1754e-04 - val_loss: 1794.0000 - val_accuracy: 0.0000e+00\n",
            "Epoch 9/200\n",
            "48/48 [==============================] - 87s 2s/step - loss: 1420.2202 - accuracy: 4.1754e-04 - val_loss: 1794.0000 - val_accuracy: 0.0000e+00\n",
            "Epoch 10/200\n",
            "48/48 [==============================] - 83s 2s/step - loss: 1420.2201 - accuracy: 4.1754e-04 - val_loss: 1794.0000 - val_accuracy: 0.0000e+00\n",
            "Epoch 11/200\n",
            "48/48 [==============================] - 101s 2s/step - loss: 1420.2195 - accuracy: 4.1754e-04 - val_loss: 1794.0000 - val_accuracy: 0.0000e+00\n",
            "Epoch 12/200\n",
            "48/48 [==============================] - 101s 2s/step - loss: 1420.2196 - accuracy: 4.1754e-04 - val_loss: 1794.0000 - val_accuracy: 0.0000e+00\n",
            "Epoch 13/200\n",
            "48/48 [==============================] - 89s 2s/step - loss: 1420.2191 - accuracy: 4.1754e-04 - val_loss: 1794.0000 - val_accuracy: 0.0000e+00\n",
            "Epoch 14/200\n",
            "48/48 [==============================] - 83s 2s/step - loss: 1420.2197 - accuracy: 4.1754e-04 - val_loss: 1794.0000 - val_accuracy: 0.0000e+00\n",
            "Epoch 15/200\n",
            "48/48 [==============================] - 86s 2s/step - loss: 1420.2201 - accuracy: 4.1754e-04 - val_loss: 1794.0000 - val_accuracy: 0.0000e+00\n",
            "Epoch 16/200\n",
            "48/48 [==============================] - 87s 2s/step - loss: 1420.2191 - accuracy: 4.1754e-04 - val_loss: 1794.0000 - val_accuracy: 0.0000e+00\n",
            "Epoch 17/200\n",
            "48/48 [==============================] - 93s 2s/step - loss: 1420.2198 - accuracy: 4.1754e-04 - val_loss: 1794.0000 - val_accuracy: 0.0000e+00\n",
            "Epoch 18/200\n",
            "48/48 [==============================] - 91s 2s/step - loss: 1420.2196 - accuracy: 4.1754e-04 - val_loss: 1794.0000 - val_accuracy: 0.0000e+00\n",
            "Epoch 19/200\n",
            "48/48 [==============================] - 88s 2s/step - loss: nan - accuracy: 3.1315e-04 - val_loss: nan - val_accuracy: 0.0000e+00\n",
            "Epoch 20/200\n",
            "48/48 [==============================] - 86s 2s/step - loss: nan - accuracy: 4.1754e-04 - val_loss: nan - val_accuracy: 0.0000e+00\n",
            "Epoch 21/200\n",
            "48/48 [==============================] - 85s 2s/step - loss: nan - accuracy: 4.1754e-04 - val_loss: nan - val_accuracy: 0.0000e+00\n",
            "Epoch 22/200\n",
            "48/48 [==============================] - 85s 2s/step - loss: nan - accuracy: 4.1754e-04 - val_loss: nan - val_accuracy: 0.0000e+00\n",
            "Epoch 23/200\n",
            "48/48 [==============================] - 88s 2s/step - loss: nan - accuracy: 4.1754e-04 - val_loss: nan - val_accuracy: 0.0000e+00\n",
            "Epoch 24/200\n",
            "48/48 [==============================] - 95s 2s/step - loss: nan - accuracy: 4.1754e-04 - val_loss: nan - val_accuracy: 0.0000e+00\n",
            "Epoch 25/200\n",
            "48/48 [==============================] - 130s 3s/step - loss: nan - accuracy: 4.1754e-04 - val_loss: nan - val_accuracy: 0.0000e+00\n",
            "Epoch 26/200\n",
            "48/48 [==============================] - 118s 2s/step - loss: nan - accuracy: 4.1754e-04 - val_loss: nan - val_accuracy: 0.0000e+00\n",
            "Epoch 27/200\n",
            "48/48 [==============================] - 105s 2s/step - loss: nan - accuracy: 4.1754e-04 - val_loss: nan - val_accuracy: 0.0000e+00\n",
            "Epoch 28/200\n",
            "48/48 [==============================] - 96s 2s/step - loss: nan - accuracy: 4.1754e-04 - val_loss: nan - val_accuracy: 0.0000e+00\n",
            "Epoch 29/200\n",
            "48/48 [==============================] - 94s 2s/step - loss: nan - accuracy: 4.1754e-04 - val_loss: nan - val_accuracy: 0.0000e+00\n",
            "Epoch 30/200\n",
            "48/48 [==============================] - 92s 2s/step - loss: nan - accuracy: 4.1754e-04 - val_loss: nan - val_accuracy: 0.0000e+00\n",
            "Epoch 31/200\n",
            "48/48 [==============================] - 112s 2s/step - loss: nan - accuracy: 4.1754e-04 - val_loss: nan - val_accuracy: 0.0000e+00\n",
            "Epoch 32/200\n",
            "48/48 [==============================] - 127s 3s/step - loss: nan - accuracy: 4.1754e-04 - val_loss: nan - val_accuracy: 0.0000e+00\n",
            "Epoch 33/200\n",
            "48/48 [==============================] - 111s 2s/step - loss: nan - accuracy: 4.1754e-04 - val_loss: nan - val_accuracy: 0.0000e+00\n",
            "Epoch 34/200\n",
            "48/48 [==============================] - 105s 2s/step - loss: nan - accuracy: 4.1754e-04 - val_loss: nan - val_accuracy: 0.0000e+00\n",
            "Epoch 35/200\n",
            "48/48 [==============================] - 107s 2s/step - loss: nan - accuracy: 4.1754e-04 - val_loss: nan - val_accuracy: 0.0000e+00\n",
            "Epoch 36/200\n",
            "48/48 [==============================] - 107s 2s/step - loss: nan - accuracy: 4.1754e-04 - val_loss: nan - val_accuracy: 0.0000e+00\n",
            "Epoch 37/200\n",
            "48/48 [==============================] - 111s 2s/step - loss: nan - accuracy: 4.1754e-04 - val_loss: nan - val_accuracy: 0.0000e+00\n",
            "Epoch 38/200\n",
            "48/48 [==============================] - 106s 2s/step - loss: nan - accuracy: 4.1754e-04 - val_loss: nan - val_accuracy: 0.0000e+00\n",
            "Epoch 39/200\n",
            "48/48 [==============================] - 104s 2s/step - loss: nan - accuracy: 4.1754e-04 - val_loss: nan - val_accuracy: 0.0000e+00\n",
            "Epoch 40/200\n",
            "48/48 [==============================] - 112s 2s/step - loss: nan - accuracy: 4.1754e-04 - val_loss: nan - val_accuracy: 0.0000e+00\n",
            "Epoch 41/200\n",
            "48/48 [==============================] - 112s 2s/step - loss: nan - accuracy: 4.1754e-04 - val_loss: nan - val_accuracy: 0.0000e+00\n",
            "Epoch 42/200\n",
            "48/48 [==============================] - 111s 2s/step - loss: nan - accuracy: 4.1754e-04 - val_loss: nan - val_accuracy: 0.0000e+00\n",
            "Epoch 43/200\n",
            "48/48 [==============================] - 111s 2s/step - loss: nan - accuracy: 4.1754e-04 - val_loss: nan - val_accuracy: 0.0000e+00\n",
            "Epoch 44/200\n",
            "48/48 [==============================] - 110s 2s/step - loss: nan - accuracy: 4.1754e-04 - val_loss: nan - val_accuracy: 0.0000e+00\n",
            "Epoch 45/200\n",
            "48/48 [==============================] - 107s 2s/step - loss: nan - accuracy: 4.1754e-04 - val_loss: nan - val_accuracy: 0.0000e+00\n",
            "Epoch 46/200\n",
            "48/48 [==============================] - 108s 2s/step - loss: nan - accuracy: 4.1754e-04 - val_loss: nan - val_accuracy: 0.0000e+00\n",
            "Epoch 47/200\n",
            "48/48 [==============================] - 94s 2s/step - loss: nan - accuracy: 4.1754e-04 - val_loss: nan - val_accuracy: 0.0000e+00\n",
            "Epoch 48/200\n",
            "48/48 [==============================] - 93s 2s/step - loss: nan - accuracy: 4.1754e-04 - val_loss: nan - val_accuracy: 0.0000e+00\n",
            "Epoch 49/200\n",
            "48/48 [==============================] - 92s 2s/step - loss: nan - accuracy: 4.1754e-04 - val_loss: nan - val_accuracy: 0.0000e+00\n",
            "Epoch 50/200\n",
            "48/48 [==============================] - 83s 2s/step - loss: nan - accuracy: 4.1754e-04 - val_loss: nan - val_accuracy: 0.0000e+00\n",
            "Epoch 51/200\n",
            "48/48 [==============================] - 89s 2s/step - loss: nan - accuracy: 4.1754e-04 - val_loss: nan - val_accuracy: 0.0000e+00\n",
            "Epoch 52/200\n",
            "48/48 [==============================] - 91s 2s/step - loss: nan - accuracy: 4.1754e-04 - val_loss: nan - val_accuracy: 0.0000e+00\n",
            "Epoch 53/200\n",
            "48/48 [==============================] - 90s 2s/step - loss: nan - accuracy: 4.1754e-04 - val_loss: nan - val_accuracy: 0.0000e+00\n",
            "Epoch 54/200\n",
            "48/48 [==============================] - 95s 2s/step - loss: nan - accuracy: 4.1754e-04 - val_loss: nan - val_accuracy: 0.0000e+00\n",
            "Epoch 55/200\n",
            "48/48 [==============================] - 88s 2s/step - loss: nan - accuracy: 4.1754e-04 - val_loss: nan - val_accuracy: 0.0000e+00\n",
            "Epoch 56/200\n",
            "48/48 [==============================] - 91s 2s/step - loss: nan - accuracy: 4.1754e-04 - val_loss: nan - val_accuracy: 0.0000e+00\n",
            "Epoch 57/200\n",
            "48/48 [==============================] - 107s 2s/step - loss: nan - accuracy: 4.1754e-04 - val_loss: nan - val_accuracy: 0.0000e+00\n",
            "Epoch 58/200\n",
            "48/48 [==============================] - 88s 2s/step - loss: nan - accuracy: 4.1754e-04 - val_loss: nan - val_accuracy: 0.0000e+00\n",
            "Epoch 59/200\n",
            "48/48 [==============================] - 91s 2s/step - loss: nan - accuracy: 4.1754e-04 - val_loss: nan - val_accuracy: 0.0000e+00\n",
            "Epoch 60/200\n",
            "48/48 [==============================] - 88s 2s/step - loss: nan - accuracy: 4.1754e-04 - val_loss: nan - val_accuracy: 0.0000e+00\n",
            "Epoch 61/200\n",
            "48/48 [==============================] - 86s 2s/step - loss: nan - accuracy: 4.1754e-04 - val_loss: nan - val_accuracy: 0.0000e+00\n",
            "Epoch 62/200\n",
            "48/48 [==============================] - 88s 2s/step - loss: nan - accuracy: 4.1754e-04 - val_loss: nan - val_accuracy: 0.0000e+00\n",
            "Epoch 63/200\n",
            "48/48 [==============================] - 83s 2s/step - loss: nan - accuracy: 4.1754e-04 - val_loss: nan - val_accuracy: 0.0000e+00\n",
            "Epoch 64/200\n",
            "48/48 [==============================] - 92s 2s/step - loss: nan - accuracy: 4.1754e-04 - val_loss: nan - val_accuracy: 0.0000e+00\n",
            "Epoch 65/200\n",
            "48/48 [==============================] - 98s 2s/step - loss: nan - accuracy: 4.1754e-04 - val_loss: nan - val_accuracy: 0.0000e+00\n",
            "Epoch 66/200\n",
            "48/48 [==============================] - 85s 2s/step - loss: nan - accuracy: 4.1754e-04 - val_loss: nan - val_accuracy: 0.0000e+00\n",
            "Epoch 67/200\n",
            "48/48 [==============================] - 85s 2s/step - loss: nan - accuracy: 4.1754e-04 - val_loss: nan - val_accuracy: 0.0000e+00\n",
            "Epoch 68/200\n",
            "48/48 [==============================] - 82s 2s/step - loss: nan - accuracy: 4.1754e-04 - val_loss: nan - val_accuracy: 0.0000e+00\n",
            "Epoch 69/200\n",
            "48/48 [==============================] - 91s 2s/step - loss: nan - accuracy: 4.1754e-04 - val_loss: nan - val_accuracy: 0.0000e+00\n",
            "Epoch 70/200\n",
            "48/48 [==============================] - 87s 2s/step - loss: nan - accuracy: 4.1754e-04 - val_loss: nan - val_accuracy: 0.0000e+00\n",
            "Epoch 71/200\n",
            "48/48 [==============================] - 82s 2s/step - loss: nan - accuracy: 4.1754e-04 - val_loss: nan - val_accuracy: 0.0000e+00\n",
            "Epoch 72/200\n",
            "48/48 [==============================] - 84s 2s/step - loss: nan - accuracy: 4.1754e-04 - val_loss: nan - val_accuracy: 0.0000e+00\n",
            "Epoch 73/200\n",
            "48/48 [==============================] - 85s 2s/step - loss: nan - accuracy: 4.1754e-04 - val_loss: nan - val_accuracy: 0.0000e+00\n",
            "Epoch 74/200\n",
            "48/48 [==============================] - 86s 2s/step - loss: nan - accuracy: 4.1754e-04 - val_loss: nan - val_accuracy: 0.0000e+00\n",
            "Epoch 75/200\n",
            "48/48 [==============================] - 89s 2s/step - loss: nan - accuracy: 4.1754e-04 - val_loss: nan - val_accuracy: 0.0000e+00\n",
            "Epoch 76/200\n",
            "48/48 [==============================] - 87s 2s/step - loss: nan - accuracy: 4.1754e-04 - val_loss: nan - val_accuracy: 0.0000e+00\n",
            "Epoch 77/200\n",
            "48/48 [==============================] - 87s 2s/step - loss: nan - accuracy: 4.1754e-04 - val_loss: nan - val_accuracy: 0.0000e+00\n",
            "Epoch 78/200\n",
            "48/48 [==============================] - 91s 2s/step - loss: nan - accuracy: 4.1754e-04 - val_loss: nan - val_accuracy: 0.0000e+00\n",
            "Epoch 79/200\n",
            "48/48 [==============================] - 88s 2s/step - loss: nan - accuracy: 4.1754e-04 - val_loss: nan - val_accuracy: 0.0000e+00\n",
            "Epoch 80/200\n",
            "48/48 [==============================] - 89s 2s/step - loss: nan - accuracy: 4.1754e-04 - val_loss: nan - val_accuracy: 0.0000e+00\n",
            "Epoch 81/200\n",
            "48/48 [==============================] - 89s 2s/step - loss: nan - accuracy: 4.1754e-04 - val_loss: nan - val_accuracy: 0.0000e+00\n",
            "Epoch 82/200\n",
            "48/48 [==============================] - 89s 2s/step - loss: nan - accuracy: 4.1754e-04 - val_loss: nan - val_accuracy: 0.0000e+00\n",
            "Epoch 83/200\n",
            "48/48 [==============================] - 94s 2s/step - loss: nan - accuracy: 4.1754e-04 - val_loss: nan - val_accuracy: 0.0000e+00\n",
            "Epoch 84/200\n",
            "48/48 [==============================] - 91s 2s/step - loss: nan - accuracy: 4.1754e-04 - val_loss: nan - val_accuracy: 0.0000e+00\n",
            "Epoch 85/200\n",
            "48/48 [==============================] - 91s 2s/step - loss: nan - accuracy: 4.1754e-04 - val_loss: nan - val_accuracy: 0.0000e+00\n",
            "Epoch 86/200\n",
            "48/48 [==============================] - 88s 2s/step - loss: nan - accuracy: 4.1754e-04 - val_loss: nan - val_accuracy: 0.0000e+00\n",
            "Epoch 87/200\n",
            "48/48 [==============================] - 90s 2s/step - loss: nan - accuracy: 4.1754e-04 - val_loss: nan - val_accuracy: 0.0000e+00\n",
            "Epoch 88/200\n",
            "48/48 [==============================] - 88s 2s/step - loss: nan - accuracy: 4.1754e-04 - val_loss: nan - val_accuracy: 0.0000e+00\n",
            "Epoch 89/200\n",
            "48/48 [==============================] - 92s 2s/step - loss: nan - accuracy: 4.1754e-04 - val_loss: nan - val_accuracy: 0.0000e+00\n",
            "Epoch 90/200\n",
            "48/48 [==============================] - 91s 2s/step - loss: nan - accuracy: 4.1754e-04 - val_loss: nan - val_accuracy: 0.0000e+00\n",
            "Epoch 91/200\n",
            "48/48 [==============================] - 90s 2s/step - loss: nan - accuracy: 4.1754e-04 - val_loss: nan - val_accuracy: 0.0000e+00\n",
            "Epoch 92/200\n",
            "48/48 [==============================] - 98s 2s/step - loss: nan - accuracy: 4.1754e-04 - val_loss: nan - val_accuracy: 0.0000e+00\n",
            "Epoch 93/200\n",
            "48/48 [==============================] - 91s 2s/step - loss: nan - accuracy: 4.1754e-04 - val_loss: nan - val_accuracy: 0.0000e+00\n",
            "Epoch 94/200\n",
            "48/48 [==============================] - 93s 2s/step - loss: nan - accuracy: 4.1754e-04 - val_loss: nan - val_accuracy: 0.0000e+00\n",
            "Epoch 95/200\n",
            "48/48 [==============================] - 90s 2s/step - loss: nan - accuracy: 4.1754e-04 - val_loss: nan - val_accuracy: 0.0000e+00\n",
            "Epoch 96/200\n",
            "17/48 [=========>....................] - ETA: 54s - loss: nan - accuracy: 2.9412e-04"
          ]
        }
      ],
      "source": [
        "from keras.optimizers.optimizer_experimental.optimizer import learning_rate_schedule\n",
        "from keras.callbacks import EarlyStopping\n",
        "# definición del modelo\n",
        "model = Sequential()\n",
        "model.add(LSTM(50, return_sequences=True,\n",
        "               input_shape=(60,320) , kernel_initializer='TruncatedNormal',activation='ReLU'))  # returns a sequence of vectors of dimension 32\n",
        "model.add(LSTM(100, return_sequences=True,activation='ReLU'))  # returns a sequence of vectors of dimension 32\n",
        "model.add(LSTM(150,return_sequences=True,activation='ReLU'))\n",
        "model.add(LSTM(200,return_sequences=True,activation='ReLU'))\n",
        "model.add(LSTM(100,return_sequences=True,activation='ReLU'))  # return a single vector of dimension 32\n",
        "\n",
        "model.add(Dense(50, activation='ReLU'))\n",
        "model.add(Dense(1, activation='Softmax'))\n",
        "model.compile(optimizer='Adam',metrics=['accuracy'] , loss='Huber')\n",
        "es = EarlyStopping(monitor='accuracy', mode='min', verbose=1)\n",
        "# fit del modelo\n",
        "model.fit(X, y, epochs=200,batch_size=200, verbose=1,validation_split=0.2)"
      ]
    },
    {
      "cell_type": "code",
      "execution_count": null,
      "metadata": {
        "id": "q-vX9anFq2v4"
      },
      "outputs": [],
      "source": [
        "model.summary()"
      ]
    }
  ],
  "metadata": {
    "accelerator": "GPU",
    "colab": {
      "collapsed_sections": [
        "L6KCgAQb2Nmr",
        "jpKa4HoUzHyf",
        "OUrgRkG42RcQ",
        "0veNQ9y67dWp",
        "-8nrFZIGrfwd",
        "mbLX1-T0I44-",
        "yU_SnTCNLbVu",
        "Q8z2lfznMN0P"
      ],
      "provenance": []
    },
    "gpuClass": "standard",
    "kernelspec": {
      "display_name": "Python 3",
      "name": "python3"
    },
    "language_info": {
      "name": "python"
    }
  },
  "nbformat": 4,
  "nbformat_minor": 0
}